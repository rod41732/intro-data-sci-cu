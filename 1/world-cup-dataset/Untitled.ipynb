{
 "cells": [
  {
   "cell_type": "code",
   "execution_count": 2,
   "metadata": {},
   "outputs": [
    {
     "name": "stdout",
     "output_type": "stream",
     "text": [
      "         dataset  year  match_id    team  minute_score\n",
      "0  1930--uruguay  1930         1  France            19\n",
      "1  1930--uruguay  1930         1  France            40\n",
      "2  1930--uruguay  1930         1  France            43\n",
      "3  1930--uruguay  1930         1  France            87\n",
      "4  1930--uruguay  1930         1  Mexico            70\n"
     ]
    }
   ],
   "source": [
    "from collections import defaultdict, Counter\n",
    "import pandas as pd\n",
    "match = pd.read_csv('all_matches.csv')\n",
    "stat = pd.read_csv('all_stats.csv')\n",
    "tourney = pd.read_csv('all_tournaments.csv')\n",
    "time = pd.read_csv('score_by_minute.csv')\n",
    "print(time.head())"
   ]
  },
  {
   "cell_type": "code",
   "execution_count": 3,
   "metadata": {},
   "outputs": [
    {
     "name": "stdout",
     "output_type": "stream",
     "text": [
      "         dataset  year  match_id  home_team away_team  home_score  away_score  \\\n",
      "0  1930--uruguay  1930         1     France    Mexico           4           4   \n",
      "1  1930--uruguay  1930         5  Argentina    France           1           1   \n",
      "2  1930--uruguay  1930         6      Chile    Mexico           3           3   \n",
      "3  1930--uruguay  1930        10      Chile    France           1           1   \n",
      "4  1930--uruguay  1930        11  Argentina    Mexico           6           6   \n",
      "\n",
      "      winner  \n",
      "0     France  \n",
      "1  Argentina  \n",
      "2      Chile  \n",
      "3      Chile  \n",
      "4  Argentina  \n",
      "--------------------\n",
      "     team  year  win  draw  loss  goal_for  goal_against\n",
      "0  France  1930    1     0     2         4             3\n",
      "1  France  1934    0     0     1         2             3\n",
      "2  France  1938    1     0     1         4             4\n",
      "3  France  1954    1     0     1         3             3\n",
      "4  France  1958    4     0     2        23            15\n",
      "--------------------\n",
      "             dataset  year     champion       runner-up\n",
      "0      1930--uruguay  1930      Uruguay       Argentina\n",
      "1        1934--italy  1934        Italy  Czechoslovakia\n",
      "2       1938--france  1938        Italy         Hungary\n",
      "3       1950--brazil  1950      Uruguay          Brazil\n",
      "4  1954--switzerland  1954  Switzerland           Italy\n",
      "--------------------\n",
      "         dataset  year  match_id    team  minute_score\n",
      "0  1930--uruguay  1930         1  France            19\n",
      "1  1930--uruguay  1930         1  France            40\n",
      "2  1930--uruguay  1930         1  France            43\n",
      "3  1930--uruguay  1930         1  France            87\n",
      "4  1930--uruguay  1930         1  Mexico            70\n"
     ]
    }
   ],
   "source": [
    "# peek at the data\n",
    "print(match.head())\n",
    "print('-'*20)\n",
    "print(stat.head())\n",
    "print('-'*20)\n",
    "print(tourney.head())\n",
    "print('-'*20)\n",
    "print(time.head())"
   ]
  },
  {
   "cell_type": "code",
   "execution_count": 5,
   "metadata": {},
   "outputs": [
    {
     "data": {
      "text/html": [
       "<div>\n",
       "<style scoped>\n",
       "    .dataframe tbody tr th:only-of-type {\n",
       "        vertical-align: middle;\n",
       "    }\n",
       "\n",
       "    .dataframe tbody tr th {\n",
       "        vertical-align: top;\n",
       "    }\n",
       "\n",
       "    .dataframe thead th {\n",
       "        text-align: right;\n",
       "    }\n",
       "</style>\n",
       "<table border=\"1\" class=\"dataframe\">\n",
       "  <thead>\n",
       "    <tr style=\"text-align: right;\">\n",
       "      <th></th>\n",
       "      <th>dataset</th>\n",
       "      <th>year</th>\n",
       "      <th>match_id</th>\n",
       "      <th>home_team</th>\n",
       "      <th>away_team</th>\n",
       "      <th>home_score</th>\n",
       "      <th>away_score</th>\n",
       "      <th>winner</th>\n",
       "    </tr>\n",
       "  </thead>\n",
       "  <tbody>\n",
       "    <tr>\n",
       "      <th>0</th>\n",
       "      <td>1930--uruguay</td>\n",
       "      <td>1930</td>\n",
       "      <td>1</td>\n",
       "      <td>France</td>\n",
       "      <td>Mexico</td>\n",
       "      <td>4</td>\n",
       "      <td>4</td>\n",
       "      <td>France</td>\n",
       "    </tr>\n",
       "    <tr>\n",
       "      <th>1</th>\n",
       "      <td>1930--uruguay</td>\n",
       "      <td>1930</td>\n",
       "      <td>5</td>\n",
       "      <td>Argentina</td>\n",
       "      <td>France</td>\n",
       "      <td>1</td>\n",
       "      <td>1</td>\n",
       "      <td>Argentina</td>\n",
       "    </tr>\n",
       "    <tr>\n",
       "      <th>2</th>\n",
       "      <td>1930--uruguay</td>\n",
       "      <td>1930</td>\n",
       "      <td>6</td>\n",
       "      <td>Chile</td>\n",
       "      <td>Mexico</td>\n",
       "      <td>3</td>\n",
       "      <td>3</td>\n",
       "      <td>Chile</td>\n",
       "    </tr>\n",
       "    <tr>\n",
       "      <th>3</th>\n",
       "      <td>1930--uruguay</td>\n",
       "      <td>1930</td>\n",
       "      <td>10</td>\n",
       "      <td>Chile</td>\n",
       "      <td>France</td>\n",
       "      <td>1</td>\n",
       "      <td>1</td>\n",
       "      <td>Chile</td>\n",
       "    </tr>\n",
       "    <tr>\n",
       "      <th>4</th>\n",
       "      <td>1930--uruguay</td>\n",
       "      <td>1930</td>\n",
       "      <td>11</td>\n",
       "      <td>Argentina</td>\n",
       "      <td>Mexico</td>\n",
       "      <td>6</td>\n",
       "      <td>6</td>\n",
       "      <td>Argentina</td>\n",
       "    </tr>\n",
       "  </tbody>\n",
       "</table>\n",
       "</div>"
      ],
      "text/plain": [
       "         dataset  year  match_id  home_team away_team  home_score  away_score  \\\n",
       "0  1930--uruguay  1930         1     France    Mexico           4           4   \n",
       "1  1930--uruguay  1930         5  Argentina    France           1           1   \n",
       "2  1930--uruguay  1930         6      Chile    Mexico           3           3   \n",
       "3  1930--uruguay  1930        10      Chile    France           1           1   \n",
       "4  1930--uruguay  1930        11  Argentina    Mexico           6           6   \n",
       "\n",
       "      winner  \n",
       "0     France  \n",
       "1  Argentina  \n",
       "2      Chile  \n",
       "3      Chile  \n",
       "4  Argentina  "
      ]
     },
     "execution_count": 5,
     "metadata": {},
     "output_type": "execute_result"
    }
   ],
   "source": [
    "match.head()"
   ]
  },
  {
   "cell_type": "code",
   "execution_count": 6,
   "metadata": {},
   "outputs": [
    {
     "name": "stdout",
     "output_type": "stream",
     "text": [
      "Most wins: [('Brazil', 76), ('Argentina', 47), ('Italy', 46), ('West Germany', 39), ('France', 36)]\n",
      "Most Average per year wins: [('West Germany', 3.9), ('Brazil', 3.619047619047619), ('Germany', 3.5555555555555554), ('Ukraine', 3.0), ('Netherlands', 2.8)]\n"
     ]
    }
   ],
   "source": [
    "# Q: Who wins most matches ?(using data from all_stats)\n",
    "avgWin = {}\n",
    "win = {}\n",
    "for team in stat['team'].unique():\n",
    "    win[team] = sum(stat[(stat['team'] == team) & (stat['year'] > 0)]['win'])\n",
    "    avgWin[team] = win[team]/stat[stat['team'] == team].shape[0]\n",
    "print('Most wins:',Counter(win).most_common(5))\n",
    "print('-'*40\n",
    "print('Most Average per year wins:',Counter(avgWin).most_common(5))"
   ]
  },
  {
   "cell_type": "code",
   "execution_count": 7,
   "metadata": {},
   "outputs": [
    {
     "name": "stdout",
     "output_type": "stream",
     "text": [
      "Top Average Goal: [('West Germany', 13.1), ('Brazil', 10.904761904761905), ('Germany', 10.555555555555555), ('Turkey', 10.0), ('Hungary', 9.666666666666666), ('Netherlands', 8.6), ('Argentina', 8.058823529411764), ('France', 8.0), ('Soviet Union', 7.571428571428571), ('Italy', 7.111111111111111)]\n",
      "----------------------------------------\n",
      "Top total goals: [('Brazil', 229), ('Argentina', 137), ('West Germany', 131), ('Italy', 128), ('France', 120), ('Spain', 99), ('Germany', 95), ('England', 91), ('Uruguay', 87), ('Hungary', 87)]\n"
     ]
    }
   ],
   "source": [
    "# Who scores most goal ? (using data from all_stats)\n",
    "avgGoal = {}\n",
    "goals = {}\n",
    "for team in stat['team'].unique():\n",
    "    allGoals = sum(stat[stat['team'] == team]['goal_for'])\n",
    "    numYear = stat[stat['team'] == team].shape[0]\n",
    "    goals[team] = allGoals\n",
    "    avgGoal[team] = allGoals/numYear\n",
    "avgGoal = Counter(avgGoal)\n",
    "goals = Counter(goals)\n",
    "print('Top Average Goal:', avgGoal.most_common(10))\n",
    "print('-'*40)\n",
    "print('Top total goals:', goals.most_common(10))"
   ]
  },
  {
   "cell_type": "code",
   "execution_count": null,
   "metadata": {},
   "outputs": [],
   "source": [
    "# Who score the most goal? (Using data from all_matches)\n",
    "from collections import defaultdict, Counter\n",
    "NYear = defaultdict(int)\n",
    "NGoal = defaultdict(int)\n",
    "AvgGoal = defaultdict(float)\n",
    "check = defaultdict(defaultdict)\n",
    "for idx, row in match.iterrows():\n",
    "    for x in ['home', 'away']:\n",
    "        if (row['dataset'] not in check):\n",
    "            check[row['dataset']] = defaultdict(int)\n",
    "        if (check[row['dataset']][row['%s_team'%x]] == 0):\n",
    "            check[row['dataset']][row['%s_team'%x]] = 1\n",
    "            NYear[row['%s_team'%x]] += 1\n",
    "        NGoal[row['%s_team'%x]] += row['%s_score'%x]\n",
    "for team in NYear:\n",
    "    AvgGoal[team] = NGoal[team]/NYear[team]\n",
    "print(Counter(AvgGoal).most_common(10))"
   ]
  },
  {
   "cell_type": "code",
   "execution_count": 20,
   "metadata": {},
   "outputs": [
    {
     "name": "stdout",
     "output_type": "stream",
     "text": [
      "[('Mexico', (3.6666666666666665, 11, 3)), ('Czechoslovakia', (2.6666666666666665, 8, 3)), ('Colombia', (2.6, 13, 5)), ('Netherlands', (2.4, 12, 5)), ('Croatia', (2.0, 12, 6)), ('Yugoslavia', (1.8, 9, 5)), ('Belgium', (1.5555555555555556, 14, 9)), ('Brazil', (1.5217391304347827, 35, 23)), ('Russia', (1.4, 7, 5)), ('Switzerland', (1.3636363636363635, 15, 11))]\n",
      "--------------------\n",
      "[('Brazil', 12), ('Colombia', 8), ('Mexico', 8), ('Netherlands', 7), ('Croatia', 6), ('Belgium', 5), ('Czechoslovakia', 5), ('Switzerland', 4), ('Yugoslavia', 4), ('United States', 2)]\n"
     ]
    }
   ],
   "source": [
    "# Q: Which teams performs better in second half?(using data from score_by_minute)\n",
    "second_half = time[(time['minute_score'] > 45) & (time['minute_score'] <= 90)]['team'].value_counts().to_dict()\n",
    "first_half = time[time['minute_score'] <= 45]['team'].value_counts().to_dict()\n",
    "ratio = {}\n",
    "diff = {}\n",
    "for team in second_half:\n",
    "    # if not filter out small top data \n",
    "    if (team in first_half and second_half[team] + first_half[team] >= 10):\n",
    "        diff[team] = second_half[team]-first_half[team]\n",
    "        ratio[team] = (second_half[team]/first_half[team], second_half[team], first_half[team])\n",
    "print(Counter(ratio).most_common(10))\n",
    "print('-'*20)\n",
    "print(Counter(diff).most_common(10))"
   ]
  },
  {
   "cell_type": "code",
   "execution_count": 16,
   "metadata": {},
   "outputs": [
    {
     "name": "stdout",
     "output_type": "stream",
     "text": [
      "Italy               4\n",
      "Brazil              4\n",
      "Argentina           2\n",
      "Uruguay             2\n",
      "France              2\n",
      "West Germany        2\n",
      "Germany             1\n",
      "Switzerland         1\n",
      "Spain               1\n",
      "England             1\n",
      "Northern Ireland    1\n",
      "Name: champion, dtype: int64\n"
     ]
    }
   ],
   "source": [
    "#Q: which team win in highest number of continents?\n",
    "print(tourney['champion'].value_counts())"
   ]
  },
  {
   "cell_type": "code",
   "execution_count": 11,
   "metadata": {},
   "outputs": [
    {
     "data": {
      "text/html": [
       "<div>\n",
       "<style scoped>\n",
       "    .dataframe tbody tr th:only-of-type {\n",
       "        vertical-align: middle;\n",
       "    }\n",
       "\n",
       "    .dataframe tbody tr th {\n",
       "        vertical-align: top;\n",
       "    }\n",
       "\n",
       "    .dataframe thead th {\n",
       "        text-align: right;\n",
       "    }\n",
       "</style>\n",
       "<table border=\"1\" class=\"dataframe\">\n",
       "  <thead>\n",
       "    <tr style=\"text-align: right;\">\n",
       "      <th></th>\n",
       "      <th>dataset</th>\n",
       "      <th>year</th>\n",
       "      <th>champion</th>\n",
       "      <th>runner-up</th>\n",
       "    </tr>\n",
       "  </thead>\n",
       "  <tbody>\n",
       "    <tr>\n",
       "      <th>6</th>\n",
       "      <td>1962--chile</td>\n",
       "      <td>1962</td>\n",
       "      <td>Brazil</td>\n",
       "      <td>Czechoslovakia</td>\n",
       "    </tr>\n",
       "    <tr>\n",
       "      <th>8</th>\n",
       "      <td>1970--mexico</td>\n",
       "      <td>1970</td>\n",
       "      <td>Brazil</td>\n",
       "      <td>Italy</td>\n",
       "    </tr>\n",
       "    <tr>\n",
       "      <th>14</th>\n",
       "      <td>1994--united-states</td>\n",
       "      <td>1994</td>\n",
       "      <td>Brazil</td>\n",
       "      <td>Italy</td>\n",
       "    </tr>\n",
       "    <tr>\n",
       "      <th>16</th>\n",
       "      <td>2002--south-korea-n-japan</td>\n",
       "      <td>2002</td>\n",
       "      <td>Brazil</td>\n",
       "      <td>Germany</td>\n",
       "    </tr>\n",
       "  </tbody>\n",
       "</table>\n",
       "</div>"
      ],
      "text/plain": [
       "                      dataset  year champion       runner-up\n",
       "6                 1962--chile  1962   Brazil  Czechoslovakia\n",
       "8                1970--mexico  1970   Brazil           Italy\n",
       "14        1994--united-states  1994   Brazil           Italy\n",
       "16  2002--south-korea-n-japan  2002   Brazil         Germany"
      ]
     },
     "execution_count": 11,
     "metadata": {},
     "output_type": "execute_result"
    }
   ],
   "source": [
    "tourney[tourney['champion'] == 'Brazil']"
   ]
  },
  {
   "cell_type": "code",
   "execution_count": 8,
   "metadata": {},
   "outputs": [
    {
     "name": "stdout",
     "output_type": "stream",
     "text": [
      "dataset         25\n",
      "year            25\n",
      "match_id        25\n",
      "team            25\n",
      "minute_score    25\n",
      "dtype: int64\n",
      "dataset         40\n",
      "year            40\n",
      "match_id        40\n",
      "team            40\n",
      "minute_score    40\n",
      "dtype: int64\n",
      "dataset         276\n",
      "year            276\n",
      "match_id        276\n",
      "team            276\n",
      "minute_score    276\n",
      "dtype: int64\n"
     ]
    }
   ],
   "source": [
    "#Bonus Q: Does the first-5-minute and last-5-minute get \"a lot\" of goals \n",
    "print(time[time['minute_score'] <= 5].count())\n",
    "print(time[(40 <= time['minute_score']) & (time['minute_score'] <= 45)].count())\n",
    "print(time[time['minute_score'] <= 45].count())"
   ]
  },
  {
   "cell_type": "code",
   "execution_count": 14,
   "metadata": {},
   "outputs": [
    {
     "name": "stdout",
     "output_type": "stream",
     "text": [
      "dataset         9\n",
      "year            9\n",
      "match_id        9\n",
      "team            9\n",
      "minute_score    9\n",
      "dtype: int64\n",
      "dataset         74\n",
      "year            74\n",
      "match_id        74\n",
      "team            74\n",
      "minute_score    74\n",
      "dtype: int64\n",
      "dataset         360\n",
      "year            360\n",
      "match_id        360\n",
      "team            360\n",
      "minute_score    360\n",
      "dtype: int64\n"
     ]
    }
   ],
   "source": [
    "#Q: Does the first-5-minute and last-5-minute get \"a lot\" of goals (In second half)\n",
    "print(time[(45 <= time['minute_score']) & (time['minute_score'] <= 45)].count())\n",
    "print(time[(85 <= time['minute_score']) & (time['minute_score'] <= 90)].count())\n",
    "print(time[(45 <= time['minute_score']) & (time['minute_score'] <= 90)].count())"
   ]
  },
  {
   "cell_type": "code",
   "execution_count": null,
   "metadata": {},
   "outputs": [],
   "source": []
  }
 ],
 "metadata": {
  "kernelspec": {
   "display_name": "Python 3",
   "language": "python",
   "name": "python3"
  },
  "language_info": {
   "codemirror_mode": {
    "name": "ipython",
    "version": 3
   },
   "file_extension": ".py",
   "mimetype": "text/x-python",
   "name": "python",
   "nbconvert_exporter": "python",
   "pygments_lexer": "ipython3",
   "version": "3.6.5"
  }
 },
 "nbformat": 4,
 "nbformat_minor": 2
}
